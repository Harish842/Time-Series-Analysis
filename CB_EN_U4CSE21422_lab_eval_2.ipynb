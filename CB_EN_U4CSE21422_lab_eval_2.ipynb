{
  "cells": [
    {
      "cell_type": "markdown",
      "metadata": {
        "id": "view-in-github",
        "colab_type": "text"
      },
      "source": [
        "<a href=\"https://colab.research.google.com/github/Harish842/Time-Series-Analysis/blob/main/CB_EN_U4CSE21422_lab_eval_2.ipynb\" target=\"_parent\"><img src=\"https://colab.research.google.com/assets/colab-badge.svg\" alt=\"Open In Colab\"/></a>"
      ]
    },
    {
      "cell_type": "markdown",
      "id": "818d5ce1",
      "metadata": {
        "id": "818d5ce1"
      },
      "source": [
        "*The type of dynamic programming used in this algorithm is* **\"Bottom-Up Dynamic Programming approach**,\n",
        "*the approach is to start from the smallest subproblems and solve them first, building up the solutions for larger subproblems iteratively. In this specific case, the algorithm starts from the last dish and iterates backward to the first dish, calculating and storing the optimal solutions for each subproblem . The solutions for smaller subproblems are used to compute solutions for larger subproblems until the overall problem is over.*"
      ]
    },
    {
      "cell_type": "code",
      "execution_count": null,
      "id": "ad7d94be",
      "metadata": {
        "id": "ad7d94be"
      },
      "outputs": [],
      "source": [
        "def maxTotalFlavourScore(FlavourScore, WaitTime):\n",
        "    n = len(FlavourScore)\n",
        "\n",
        "    maxFlavourScore = [0] * n    # Initialize array to store the maximum total flavour score\n",
        "\n",
        "    # Start from the last dish and work backward\n",
        "    for k in range(n - 1, -1, -1):\n",
        "        # If it's the last dish, the maximum score is its FlavourScore\n",
        "        if k == n - 1:\n",
        "            maxFlavourScore[k] = FlavourScore[k]\n",
        "        else:\n",
        "            # There are two cases:\n",
        "            # First :  Present the current dish (FlavourScore[k]) and skip the next WaitTime[k] dishes\n",
        "            # Second : Skip the current dish and continue with the next one\n",
        "            option1 = FlavourScore[k] + (maxFlavourScore[k + WaitTime[k] + 1] if k + WaitTime[k] + 1 < n else 0)\n",
        "            option2 = maxFlavourScore[k + 1]\n",
        "\n",
        "            # Choose the option with the higher maximum score\n",
        "            maxFlavourScore[k] = max(option1, option2)\n",
        "\n",
        "    # The overall maximum flavour score is stored in maxFlavourScore[0]\n",
        "    return maxFlavourScore[0]"
      ]
    },
    {
      "cell_type": "markdown",
      "id": "1c2c9f71",
      "metadata": {
        "id": "1c2c9f71"
      },
      "source": [
        "***Test case 1***"
      ]
    },
    {
      "cell_type": "code",
      "execution_count": null,
      "id": "1007902b",
      "metadata": {
        "id": "1007902b",
        "outputId": "21c671e6-8b0b-4d52-b57b-47a65092c1d4"
      },
      "outputs": [
        {
          "name": "stdout",
          "output_type": "stream",
          "text": [
            "Maximum total flavour score: 9\n"
          ]
        }
      ],
      "source": [
        "FlavourScore = [1, 2, 3, 4, 5]\n",
        "WaitTime = [1, 2, 1, 2, 1]\n",
        "result = maxTotalFlavourScore(FlavourScore, WaitTime)\n",
        "print(\"Maximum total flavour score:\", result)"
      ]
    },
    {
      "cell_type": "markdown",
      "id": "dd7aef30",
      "metadata": {
        "id": "dd7aef30"
      },
      "source": [
        "***Test case 2***"
      ]
    },
    {
      "cell_type": "code",
      "execution_count": null,
      "id": "acf86aa7",
      "metadata": {
        "id": "acf86aa7",
        "outputId": "b30cc409-504b-4a88-a464-399345f1014c"
      },
      "outputs": [
        {
          "name": "stdout",
          "output_type": "stream",
          "text": [
            "Maximum total flavour score: 5\n"
          ]
        }
      ],
      "source": [
        "FlavourScore = [1, 2, 3, 4]\n",
        "WaitTime = [1, 2, 1, 2]\n",
        "result = maxTotalFlavourScore(FlavourScore, WaitTime)\n",
        "print(\"Maximum total flavour score:\", result)"
      ]
    },
    {
      "cell_type": "markdown",
      "id": "ae5d8370",
      "metadata": {
        "id": "ae5d8370"
      },
      "source": [
        "***User input Test case***"
      ]
    },
    {
      "cell_type": "code",
      "execution_count": null,
      "id": "4b407a0f",
      "metadata": {
        "id": "4b407a0f",
        "outputId": "a30070ff-8cd5-4e39-8f7c-79fefeb2df5d"
      },
      "outputs": [
        {
          "name": "stdout",
          "output_type": "stream",
          "text": [
            "Enter FlavourScore separated by space: 3 2 4 5 1\n",
            "Enter WaitTime separated by space: 2 1 1 2 1\n",
            "Maximum total flavour score: 8\n"
          ]
        }
      ],
      "source": [
        "def maxTotalFlavourScore(FlavourScore, WaitTime):\n",
        "    n = len(FlavourScore)\n",
        "\n",
        "    maxFlavourScore = [0] * n\n",
        "\n",
        "    for k in range(n - 1, -1, -1):\n",
        "        if k == n - 1:\n",
        "            maxFlavourScore[k] = FlavourScore[k]\n",
        "        else:\n",
        "            option1 = FlavourScore[k] + (maxFlavourScore[k + WaitTime[k] + 1] if k + WaitTime[k] + 1 < n else 0)\n",
        "            option2 = maxFlavourScore[k + 1]\n",
        "\n",
        "            maxFlavourScore[k] = max(option1, option2)\n",
        "    return maxFlavourScore[0]\n",
        "\n",
        "FlavourScore = list(map(int, input(\"Enter FlavourScore separated by space: \").split()))\n",
        "\n",
        "WaitTime = list(map(int, input(\"Enter WaitTime separated by space: \").split()))\n",
        "\n",
        "result = maxTotalFlavourScore(FlavourScore, WaitTime)\n",
        "print(\"Maximum total flavour score:\", result)\n"
      ]
    },
    {
      "cell_type": "code",
      "execution_count": null,
      "id": "023f2358",
      "metadata": {
        "id": "023f2358"
      },
      "outputs": [],
      "source": []
    }
  ],
  "metadata": {
    "kernelspec": {
      "display_name": "Python 3 (ipykernel)",
      "language": "python",
      "name": "python3"
    },
    "language_info": {
      "codemirror_mode": {
        "name": "ipython",
        "version": 3
      },
      "file_extension": ".py",
      "mimetype": "text/x-python",
      "name": "python",
      "nbconvert_exporter": "python",
      "pygments_lexer": "ipython3",
      "version": "3.11.5"
    },
    "colab": {
      "provenance": [],
      "include_colab_link": true
    }
  },
  "nbformat": 4,
  "nbformat_minor": 5
}